{
  "nbformat": 4,
  "nbformat_minor": 0,
  "metadata": {
    "colab": {
      "provenance": []
    },
    "kernelspec": {
      "name": "python3",
      "display_name": "Python 3"
    },
    "language_info": {
      "name": "python"
    }
  },
  "cells": [
    {
      "cell_type": "code",
      "source": [
        "import csv\n",
        "import random\n",
        "import numpy as np\n",
        "from faker import Faker\n",
        "import matplotlib.pyplot as plt\n",
        "import seaborn as sns"
      ],
      "metadata": {
        "id": "Iuw7MMD3_IhF"
      },
      "execution_count": null,
      "outputs": []
    },
    {
      "cell_type": "code",
      "execution_count": null,
      "metadata": {
        "colab": {
          "base_uri": "https://localhost:8080/"
        },
        "id": "QrrDFeko-_nF",
        "outputId": "4aaa90af-a5b2-480e-ed52-87f055333aba"
      },
      "outputs": [
        {
          "output_type": "stream",
          "name": "stdout",
          "text": [
            "Clinical trial data has been saved to clinical_trial_data.csv\n"
          ]
        }
      ],
      "source": [
        "# Create Faker instance\n",
        "fake = Faker()\n",
        "\n",
        "# Specify the number of patients\n",
        "num_trials = 10000\n",
        "\n",
        "# Define the fields for the CSV\n",
        "fields = ['PatientID', 'Phase', 'Outcome', 'SideEffects', 'Participant_Age', 'Participant_Gender']\n",
        "\n",
        "# Generate fake clinical trial data and write to CSV\n",
        "with open('/content/clinical_trial_data.csv', 'w', newline='') as csvfile:\n",
        "    csv_writer = csv.writer(csvfile)\n",
        "\n",
        "    # Write header\n",
        "    csv_writer.writerow(fields)\n",
        "\n",
        "    # Write fake data with missing values\n",
        "    for patient_id in range(1, num_trials + 1):\n",
        "        if trial_id <= num_trials * 0.1:  # 10% of patients in Phase 1\n",
        "            phase = 'Phase 1'\n",
        "        elif trial_id <= num_trials * 0.3:  # 20% of patients in Phase 2\n",
        "            phase = 'Phase 2'\n",
        "        elif trial_id <= num_trials * 0.6:  # 30% of patients in Phase 3\n",
        "            phase = 'Phase 3'\n",
        "        else:  # Remaining patients (40%) in Phase 4\n",
        "            phase = 'Phase 4'\n",
        "\n",
        "        outcome = random.choices(['Positive', 'Negative', 'Neutral'], weights=[0.7, 0.2, 0.1])[0]\n",
        "        side_effects = random.choices(['None', 'Dizziness', 'Nausea', 'Tachycardia'], weights=[0.65, 0.17, 0.13, 0.05])[0]\n",
        "\n",
        "        # Introduce missing values in 10% of entries for Participant_Age\n",
        "        if random.random() < 0.1:\n",
        "            age = np.nan  # Use NumPy's NaN to represent missing values\n",
        "        else:\n",
        "            age = random.randint(18, 80)\n",
        "\n",
        "        gender = random.choice(['Male', 'Female'])\n",
        "\n",
        "        row = [patient_id, phase, outcome, side_effects, age, gender]\n",
        "        csv_writer.writerow(row)\n",
        "\n",
        "\n",
        "print(\"Clinical trial data has been saved to clinical_trial_data.csv\")"
      ]
    },
    {
      "cell_type": "code",
      "source": [
        "from google.colab import files\n",
        "\n",
        "files.download('/content/clinical_trial_data.csv')\n"
      ],
      "metadata": {
        "colab": {
          "base_uri": "https://localhost:8080/",
          "height": 17
        },
        "id": "K5H2dOo_BM3U",
        "outputId": "0c80513e-ce1f-4250-8f45-9c04f5cf059d"
      },
      "execution_count": null,
      "outputs": [
        {
          "output_type": "display_data",
          "data": {
            "text/plain": [
              "<IPython.core.display.Javascript object>"
            ],
            "application/javascript": [
              "\n",
              "    async function download(id, filename, size) {\n",
              "      if (!google.colab.kernel.accessAllowed) {\n",
              "        return;\n",
              "      }\n",
              "      const div = document.createElement('div');\n",
              "      const label = document.createElement('label');\n",
              "      label.textContent = `Downloading \"${filename}\": `;\n",
              "      div.appendChild(label);\n",
              "      const progress = document.createElement('progress');\n",
              "      progress.max = size;\n",
              "      div.appendChild(progress);\n",
              "      document.body.appendChild(div);\n",
              "\n",
              "      const buffers = [];\n",
              "      let downloaded = 0;\n",
              "\n",
              "      const channel = await google.colab.kernel.comms.open(id);\n",
              "      // Send a message to notify the kernel that we're ready.\n",
              "      channel.send({})\n",
              "\n",
              "      for await (const message of channel.messages) {\n",
              "        // Send a message to notify the kernel that we're ready.\n",
              "        channel.send({})\n",
              "        if (message.buffers) {\n",
              "          for (const buffer of message.buffers) {\n",
              "            buffers.push(buffer);\n",
              "            downloaded += buffer.byteLength;\n",
              "            progress.value = downloaded;\n",
              "          }\n",
              "        }\n",
              "      }\n",
              "      const blob = new Blob(buffers, {type: 'application/binary'});\n",
              "      const a = document.createElement('a');\n",
              "      a.href = window.URL.createObjectURL(blob);\n",
              "      a.download = filename;\n",
              "      div.appendChild(a);\n",
              "      a.click();\n",
              "      div.remove();\n",
              "    }\n",
              "  "
            ]
          },
          "metadata": {}
        },
        {
          "output_type": "display_data",
          "data": {
            "text/plain": [
              "<IPython.core.display.Javascript object>"
            ],
            "application/javascript": [
              "download(\"download_b0660494-ce5f-4f91-b83c-e3ddc3238555\", \"clinical_trial_data.csv\", 383766)"
            ]
          },
          "metadata": {}
        }
      ]
    }
  ]
}